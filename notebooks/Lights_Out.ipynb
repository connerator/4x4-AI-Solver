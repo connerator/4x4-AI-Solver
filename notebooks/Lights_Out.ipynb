{
  "cells": [
    {
      "cell_type": "markdown",
      "source": [
        "[![Open in Colab](https://colab.research.google.com/assets/colab-badge.svg)](https://colab.research.google.com/github/kyo-takano/efficientcube/blob/main/notebooks/Lights_Out.ipynb)\n",
        "[![Open in Kaggle](https://kaggle.com/static/images/open-in-kaggle.svg)](https://kaggle.com/kernels/welcome?src=https://github.com/kyo-takano/efficientcube/blob/main/notebooks/Lights_Out.ipynb)\n",
        "\n",
        "# EfficientCube: 7x7 Lights Out\n",
        "\n",
        "[![TMLR](https://img.shields.io/badge/TMLR_1188-112467?style=for-the-badge)](https://openreview.net/forum?id=bnBeNFB27b)\n",
        "[![GitHub Repository](https://img.shields.io/badge/-Repository-2dba4e?logo=github&style=for-the-badge)](https://github.com/kyo-takano/efficientcube)\n",
        "\n",
        "This notebook is associated with the following publication:\n",
        "> K. Takano. Self-Supervision is All You Need for Solving Rubik's Cube. Transactions on Machine Learning Research, ISSN 2835-8856, 2023. URL: https://openreview.net/forum?id=bnBeNFB27b.\n",
        "\n",
        "---\n",
        "\n",
        "## Overview\n",
        "This standalone notebook serves as a demonstration of the method proposed in the paper and provides the necessary code to reproduce the experiment. Please refer to the paper for the methodological overview and further details.\n",
        "\n",
        "## Usage\n",
        "\n",
        "Following the paper, the number of training steps is set to `10000` and the beam width is set to `1` (equivalent to the greedy search).\n",
        "If you wish to speed up the training, the mixed precision mode can be enabled by setting `TrainConfig.ENABLE_FP16` to `True`."
      ],
      "metadata": {
        "id": "IuqXBzv1x6_K"
      }
    },
    {
      "cell_type": "markdown",
      "metadata": {
        "id": "Bkm-I-6R8P_T"
      },
      "source": [
        "## Setup"
      ]
    },
    {
      "cell_type": "code",
      "source": [
        "class TrainConfig:\n",
        "    max_depth = 49                          # God's Number\n",
        "    batch_size_per_depth = 1000\n",
        "    num_steps = 10000\n",
        "    learning_rate = 1e-3\n",
        "    ENABLE_FP16 = False                     # Set this to True if you want to train the model faster\n",
        "    INTERVAL_PLOT, INTERVAL_SAVE = 100, 1000\n",
        "\n",
        "class SearchConfig:\n",
        "    beam_width = 1                          # => greedy search\n",
        "    max_depth = TrainConfig.max_depth * 2   # Any number above God's Number will do\n"
      ],
      "metadata": {
        "id": "kyzPG3ikzP6X"
      },
      "execution_count": null,
      "outputs": []
    },
    {
      "cell_type": "code",
      "execution_count": null,
      "metadata": {
        "id": "nF5FQBsiZxPB",
        "trusted": true,
        "outputId": "1507b372-5b9c-4ed1-a530-91b0cd330d0b"
      },
      "outputs": [
        {
          "name": "stdout",
          "output_type": "stream",
          "text": [
            "device: cuda:0\n",
            "os.cpu_count(): 2\n",
            "GPU 0: Tesla P100-PCIE-16GB (UUID: GPU-a86938d3-4373-3cd8-533e-02d7aa3a5cb2)\n"
          ]
        }
      ],
      "source": [
        "#@title Modules\n",
        "import os\n",
        "import time\n",
        "import random\n",
        "import pickle\n",
        "import numpy as np\n",
        "from copy import deepcopy\n",
        "from scipy.special import softmax\n",
        "\n",
        "from tqdm import tqdm, trange\n",
        "from IPython.display import clear_output\n",
        "import matplotlib.pyplot as plt\n",
        "from cycler import cycler\n",
        "plt.rcParams[\"axes.prop_cycle\"] = cycler(color=[\"#2180FE\", \"#EB4275\"])\n",
        "\n",
        "import torch\n",
        "from torch import nn\n",
        "device = torch.device('cuda:0' if torch.cuda.is_available() else 'cpu')\n",
        "\n",
        "print(f'device: {device}')\n",
        "print(f'os.cpu_count(): {os.cpu_count()}')\n",
        "!nvidia-smi -L\n"
      ]
    },
    {
      "cell_type": "markdown",
      "metadata": {
        "id": "2bYs2VICZxdg"
      },
      "source": [
        "## Environment\n",
        "Lights Out 7x7 is a grid puzzle\n"
      ]
    },
    {
      "cell_type": "code",
      "execution_count": null,
      "metadata": {
        "id": "QjlRyQ6LZ45Q",
        "trusted": true
      },
      "outputs": [],
      "source": [
        "class LightsOut7(object):\n",
        "    def __init__(self, dim=7):\n",
        "        self.dtype = np.int64\n",
        "\n",
        "        # define state and goal\n",
        "        self.dim = dim\n",
        "        self.num_tiles = self.dim ** 2\n",
        "        self.moves_inference = list(range(self.num_tiles))\n",
        "        self.reset()\n",
        "\n",
        "        # vectorize the sticker group replacement operations\n",
        "        self.__vectorize_moves()\n",
        "\n",
        "    def reset(self):\n",
        "        self.state = np.zeros((self.num_tiles), dtype=self.dtype)\n",
        "\n",
        "    def is_solved(self):\n",
        "        return np.all(self.state == 0)\n",
        "\n",
        "    def state_to_batch(self):\n",
        "        return np.expand_dims(self.state, axis=0)\n",
        "\n",
        "    def finger(self, move):\n",
        "        self.state[self.move_matrix[move]] = (self.state[self.move_matrix[move]] + 1) % 2 # Take modulo of odd/even to simulate boolean\n",
        "\n",
        "    def apply_scramble(self, scramble):\n",
        "        if isinstance(scramble, str):\n",
        "            scramble = scramble.split()\n",
        "        for m in scramble:\n",
        "            self.finger(m)\n",
        "\n",
        "    def scrambler(self, max_depth):\n",
        "        while True:\n",
        "            self.reset()\n",
        "            scramble = []\n",
        "            moves = list(np.random.permutation(max_depth))\n",
        "            for i in range(max_depth):\n",
        "                move = moves[i]\n",
        "                self.finger(move)\n",
        "                scramble.append(move)\n",
        "\n",
        "                yield self.state, scramble\n",
        "\n",
        "    def __vectorize_moves(self):\n",
        "        self.move_matrix = np.zeros((self.num_tiles, 5), dtype=np.int64)\n",
        "        for move in range(self.num_tiles):\n",
        "            x_pos = int(np.floor(move / self.dim))\n",
        "            y_pos = move % self.dim\n",
        "\n",
        "            right = move + self.dim if x_pos < (self.dim-1) else move\n",
        "            left = move - self.dim if x_pos > 0 else move\n",
        "            up = move + 1 if y_pos < (self.dim - 1) else move\n",
        "            down = move - 1 if y_pos > 0 else move\n",
        "\n",
        "            self.move_matrix[move] = [move, right, left, up, down]\n",
        "\n",
        "\n",
        "env = LightsOut7()"
      ]
    },
    {
      "cell_type": "markdown",
      "metadata": {
        "id": "aJFeXe-za8oL"
      },
      "source": [
        "## Model"
      ]
    },
    {
      "cell_type": "code",
      "execution_count": null,
      "metadata": {
        "id": "cO471ABebCl6",
        "trusted": true
      },
      "outputs": [],
      "source": [
        "class LinearBlock(nn.Module):\n",
        "    \"\"\"\n",
        "    Linear layer with ReLU and BatchNorm\n",
        "    \"\"\"\n",
        "    def __init__(self, input_prev, embed_dim):\n",
        "        super(LinearBlock, self).__init__()\n",
        "        self.fc = nn.Linear(input_prev, embed_dim)\n",
        "        self.relu = nn.ReLU()\n",
        "        self.bn = nn.BatchNorm1d(embed_dim)\n",
        "\n",
        "    def forward(self, inputs):\n",
        "        x = inputs\n",
        "        x = self.fc(x)\n",
        "        x = self.relu(x)\n",
        "        x = self.bn(x)\n",
        "        return x\n",
        "\n",
        "class ResidualBlock(nn.Module):\n",
        "    \"\"\"\n",
        "    Residual block with two linear layers\n",
        "    \"\"\"\n",
        "    def __init__(self, embed_dim):\n",
        "        super(ResidualBlock, self).__init__()\n",
        "        self.layers = nn.ModuleList([\n",
        "            LinearBlock(embed_dim, embed_dim),\n",
        "            LinearBlock(embed_dim, embed_dim)\n",
        "        ])\n",
        "\n",
        "    def forward(self, inputs):\n",
        "        x = inputs\n",
        "        for layer in self.layers:\n",
        "            x = layer(x)\n",
        "        x += inputs # skip-connection\n",
        "        return x\n",
        "\n",
        "class Model(nn.Module):\n",
        "    \"\"\"\n",
        "    Fixed architecture following DeepCubeA.\n",
        "    \"\"\"\n",
        "    def __init__(self, input_dim=49, output_dim=49):\n",
        "        super(Model, self).__init__()\n",
        "        self.input_dim = input_dim\n",
        "        self.embedding = LinearBlock(input_dim, 5000)\n",
        "        self.layers = nn.ModuleList([\n",
        "            LinearBlock(5000,1000),\n",
        "            ResidualBlock(1000),\n",
        "            ResidualBlock(1000),\n",
        "            ResidualBlock(1000),\n",
        "            ResidualBlock(1000)\n",
        "        ])\n",
        "        self.output = nn.Linear(1000, output_dim)\n",
        "\n",
        "    def forward(self, inputs):\n",
        "        x = inputs.to(torch.float)\n",
        "        x = self.embedding(x)\n",
        "        for layer in self.layers:\n",
        "            x = layer(x)\n",
        "        logits = self.output(x)\n",
        "        return logits\n",
        "\n",
        "model = Model().to(device)"
      ]
    },
    {
      "cell_type": "markdown",
      "metadata": {
        "id": "gv617n3MbSdO"
      },
      "source": [
        "## Training"
      ]
    },
    {
      "cell_type": "code",
      "execution_count": null,
      "metadata": {
        "id": "C8845Zz4E5Sw",
        "trusted": true
      },
      "outputs": [],
      "source": [
        "class ScrambleDataGenerator(torch.utils.data.Dataset):\n",
        "    def __init__(\n",
        "            self,\n",
        "            num_workers=os.cpu_count(),\n",
        "            max_depth=TrainConfig.max_depth,\n",
        "            total_samples=TrainConfig.num_steps*TrainConfig.batch_size_per_depth\n",
        "        ):\n",
        "        self.num_workers = num_workers\n",
        "        self.max_depth = max_depth\n",
        "        self.envs = [LightsOut7() for _ in range(num_workers)]\n",
        "        self.generators = [env.scrambler(self.max_depth) for env in self.envs]\n",
        "\n",
        "        self.total_samples = total_samples\n",
        "\n",
        "    def __len__(self):\n",
        "        return self.total_samples\n",
        "\n",
        "    def __getitem__(self, i):\n",
        "        'generate one scramble, consisting of `self.max_depth` data points'\n",
        "        worker_idx = i % self.num_workers\n",
        "        X = np.zeros((self.max_depth, 49), dtype=int)\n",
        "        y = np.zeros((self.max_depth, self.max_depth), dtype=np.float64)\n",
        "        for j in range(self.max_depth):\n",
        "            state, scramble = next(self.generators[worker_idx])\n",
        "            X[j, :] = state\n",
        "            y[j, scramble] =  1 / self.max_depth\n",
        "        return X, y\n",
        "\n",
        "dataloader = torch.utils.data.DataLoader(\n",
        "    ScrambleDataGenerator(),\n",
        "    num_workers=os.cpu_count(),\n",
        "    batch_size=TrainConfig.batch_size_per_depth\n",
        ")"
      ]
    },
    {
      "cell_type": "code",
      "execution_count": null,
      "metadata": {
        "id": "9YSxZ1Rs61Nm",
        "trusted": true,
        "outputId": "82f274c1-eed6-46f7-b667-11b07ff36b51"
      },
      "outputs": [
        {
          "data": {
            "image/png": "[encoded data removed]",
            "text/plain": [
              "<Figure size 432x288 with 1 Axes>"
            ]
          },
          "metadata": {
            "needs_background": "light"
          },
          "output_type": "display_data"
        },
        {
          "name": "stderr",
          "output_type": "stream",
          "text": [
            "100%|\u2588\u2588\u2588\u2588\u2588\u2588\u2588\u2588\u2588\u2588| 10000/10000 [1:44:42<00:00,  1.59it/s]"
          ]
        },
        {
          "name": "stdout",
          "output_type": "stream",
          "text": [
            "Model saved.\n",
            "Trained on data equivalent to 10000000 solves.\n"
          ]
        },
        {
          "name": "stderr",
          "output_type": "stream",
          "text": [
            "\n"
          ]
        }
      ],
      "source": [
        "def plot_loss_curve(h):\n",
        "    fig, ax = plt.subplots(1, 1)\n",
        "    ax.plot(h, color=\"#000000\")\n",
        "    ax.set_xlabel(\"Steps\")\n",
        "    ax.set_ylabel(\"Cross-entropy loss\")\n",
        "    ax.set_xscale(\"log\")\n",
        "    plt.show()\n",
        "\n",
        "def train(model, dataloader):\n",
        "    model.train()\n",
        "    loss_fn = nn.CrossEntropyLoss()\n",
        "    optimizer = torch.optim.Adam(model.parameters(), lr=TrainConfig.learning_rate)\n",
        "    g = iter(dataloader)\n",
        "    h = []\n",
        "    for i in trange(1, TrainConfig.num_steps + 1, smoothing=0):\n",
        "        batch_x, batch_y = next(g)\n",
        "        batch_x, batch_y = batch_x.reshape(-1, 49).to(device), batch_y.reshape(-1, 49).to(device)\n",
        "\n",
        "        if TrainConfig.ENABLE_FP16:\n",
        "            with torch.cuda.amp.autocast(dtype=torch.float16):\n",
        "                pred_y = model(batch_x)\n",
        "                loss = loss_fn(pred_y, batch_y)\n",
        "        else:\n",
        "            pred_y = model(batch_x)\n",
        "        loss = loss_fn(pred_y, batch_y)\n",
        "        optimizer.zero_grad()\n",
        "        loss.backward()\n",
        "        optimizer.step()\n",
        "\n",
        "        h.append(loss.item())\n",
        "        if TrainConfig.INTERVAL_PLOT and i % TrainConfig.INTERVAL_PLOT == 0:\n",
        "            clear_output()\n",
        "            plot_loss_curve(h)\n",
        "        if TrainConfig.INTERVAL_SAVE and i % TrainConfig.INTERVAL_SAVE == 0:\n",
        "            torch.save(model.state_dict(), f\"{i}steps.pth\")\n",
        "            print(\"Model saved.\")\n",
        "    print(f\"Trained on data equivalent to {TrainConfig.batch_size_per_depth * TrainConfig.num_steps} solves.\")\n",
        "    return model\n",
        "\n",
        "model = train(model, dataloader)"
      ]
    },
    {
      "cell_type": "markdown",
      "metadata": {
        "id": "slgl-ZobeqfU"
      },
      "source": [
        "## Inference\n",
        "\n",
        "We test and compare on the DeepCubeA dataset"
      ]
    },
    {
      "cell_type": "code",
      "execution_count": null,
      "metadata": {
        "id": "59-Cs4qnUzag",
        "trusted": true
      },
      "outputs": [],
      "source": [
        "%%capture\n",
        "model.eval()"
      ]
    },
    {
      "cell_type": "markdown",
      "metadata": {
        "id": "TM9TBcgGIglD"
      },
      "source": [
        "### Dataset: DeepCubeA\n",
        "\n",
        "Downloading from GitHub"
      ]
    },
    {
      "cell_type": "code",
      "execution_count": null,
      "metadata": {
        "id": "NPNMHAr-eess",
        "trusted": true,
        "outputId": "2464bc5f-6590-4362-b8f6-7dd3112d8239"
      },
      "outputs": [
        {
          "name": "stdout",
          "output_type": "stream",
          "text": [
            "/DeepCubeA\n",
            "\n",
            "### DeepCubeA ###\n",
            "dict_keys(['states', 'solutions', 'paths', 'times', 'num_nodes_generated'])\n",
            "No. of cases: 500\n",
            "/\n"
          ]
        }
      ],
      "source": [
        "if \"DeepCubeA\"!=os.getcwd().split(\"/\")[-1]:\n",
        "    if not os.path.exists('DeepCubeA'):\n",
        "        !git clone -q https://github.com/forestagostinelli/DeepCubeA\n",
        "    %cd ./DeepCubeA/\n",
        "\n",
        "print('\\n### DeepCubeA ###')\n",
        "filename = 'results/lightsout7/results.pkl'\n",
        "with open(filename, 'rb') as f:\n",
        "    result_DeepCubeA = pickle.load(f)\n",
        "\n",
        "    print(result_DeepCubeA.keys())\n",
        "    result_DeepCubeA[\"solution_lengths\"] = [len(s) for s in result_DeepCubeA[\"solutions\"]]\n",
        "    result_DeepCubeA[\"solution_lengths_count\"] = {\n",
        "        i: result_DeepCubeA[\"solution_lengths\"].count(i)\n",
        "        for i in range(min(result_DeepCubeA[\"solution_lengths\"]), max(result_DeepCubeA[\"solution_lengths\"]))\n",
        "    }\n",
        "\n",
        "    print('No. of cases:', len(result_DeepCubeA[\"solution_lengths\"]))\n",
        "\n",
        "%cd ../"
      ]
    },
    {
      "cell_type": "code",
      "execution_count": null,
      "metadata": {
        "id": "OE78EUviHpzq",
        "trusted": true,
        "outputId": "254c8c74-4f8f-4951-b62d-82c1a2360f2d"
      },
      "outputs": [
        {
          "data": {
            "text/plain": [
              "[29,\n",
              " 35,\n",
              " 21,\n",
              " 28,\n",
              " 11,\n",
              " 19,\n",
              " 6,\n",
              " 22,\n",
              " 0,\n",
              " 24,\n",
              " 43,\n",
              " 3,\n",
              " 18,\n",
              " 8,\n",
              " 17,\n",
              " 20,\n",
              " 5,\n",
              " 32,\n",
              " 47,\n",
              " 25,\n",
              " 23,\n",
              " 40,\n",
              " 1,\n",
              " 41,\n",
              " 39,\n",
              " 9,\n",
              " 37,\n",
              " 33]"
            ]
          },
          "execution_count": 9,
          "metadata": {},
          "output_type": "execute_result"
        }
      ],
      "source": [
        "#@title Convert optimal solutions to test scrambles\n",
        "# in LightsOut, applying the solution is equivalent to undoing it.\n",
        "test_scrambles = result_DeepCubeA[\"solutions\"]\n",
        "test_scrambles[2]"
      ]
    },
    {
      "cell_type": "markdown",
      "metadata": {
        "id": "nkzlyw7Ffg36"
      },
      "source": [
        "### Beam Search"
      ]
    },
    {
      "cell_type": "code",
      "execution_count": null,
      "metadata": {
        "id": "lHPcDfSnfijx",
        "trusted": true
      },
      "outputs": [],
      "source": [
        "def beam_search(\n",
        "        env,\n",
        "        model,\n",
        "        max_depth=SearchConfig.max_depth,\n",
        "        beam_width=SearchConfig.beam_width,\n",
        "        skip_redundant_moves=True,\n",
        "    ):\n",
        "    \"\"\"\n",
        "    Best-first search algorithm.\n",
        "    Input:\n",
        "        env: A scrambled instance of the given environment.\n",
        "        beam_width: Number of top solutions to return per depth.\n",
        "        max_depth: Maximum depth of the search tree.\n",
        "        skip_redundant_moves: If True, skip redundant moves.\n",
        "        ...\n",
        "    Output:\n",
        "        if solved successfully:\n",
        "            True, {'solutions':solution path, \"num_nodes_generated\":number of nodes expanded, \"times\":time taken to solve}\n",
        "        else:\n",
        "            False, None\n",
        "    \"\"\"\n",
        "    with torch.no_grad():\n",
        "        # metrics\n",
        "        num_nodes_generated, time_0 = 0, time.time()\n",
        "        candidates = [\n",
        "            {\"state\":deepcopy(env.state), \"path\":[], \"value\":1.}\n",
        "        ] # list of dictionaries\n",
        "\n",
        "        for depth in range(max_depth+1):\n",
        "            # TWO things at a time for every candidate: 1. check if solved & 2. add to batch_x\n",
        "            batch_x = np.zeros((len(candidates), env.state.shape[-1]), dtype=np.int64)\n",
        "            for i,c in enumerate(candidates):\n",
        "                c_path, env.state = c[\"path\"], c[\"state\"]\n",
        "                if c_path:\n",
        "                    env.finger(c_path[-1])\n",
        "                    num_nodes_generated += 1\n",
        "                    if env.is_solved():\n",
        "                        return True, {'solutions':c_path, \"num_nodes_generated\":num_nodes_generated, \"times\":time.time()-time_0}\n",
        "                batch_x[i, :] = env.state\n",
        "\n",
        "            # after checking the nodes expanded at the deepest\n",
        "            if depth==max_depth:\n",
        "                print(\"Solution not found.\")\n",
        "                return False, None\n",
        "\n",
        "            # make predictions with the trained DNN\n",
        "            batch_x = torch.from_numpy(batch_x).to(device)\n",
        "            batch_p = model(batch_x).to(\"cpu\").detach().numpy()\n",
        "            if beam_width>1:\n",
        "                batch_p = softmax(batch_p, axis=1)\n",
        "\n",
        "            # loop over candidates\n",
        "            candidates_next_depth = []  # storage for the depth-level candidates storing (path, value, index).\n",
        "            for i, c in enumerate(candidates):\n",
        "                c_path = c[\"path\"]\n",
        "                value_distribution = batch_p[i, :] # output logits for the given state\n",
        "                if beam_width>1:\n",
        "                    value_distribution *= c[\"value\"] # multiply the cumulative probability so far of the expanded path\n",
        "\n",
        "                for m, value in zip(env.moves_inference, value_distribution): # iterate over all possible moves.\n",
        "                    # predicted value to expand the path with the given move.\n",
        "\n",
        "                    if c_path and skip_redundant_moves:\n",
        "                        # logically meaningless operation\n",
        "                        if m in c_path:\n",
        "                            continue\n",
        "\n",
        "                    # add to the next-depth candidates unless 'continue'd.\n",
        "                    candidates_next_depth.append({\n",
        "                        'state':deepcopy(c['state']),\n",
        "                        \"path\": c_path+[m],\n",
        "                        \"value\":value,\n",
        "                    })\n",
        "\n",
        "            # sort potential paths by expected values and renew as 'candidates'\n",
        "            candidates = sorted(candidates_next_depth, key=lambda item: -item['value'])\n",
        "            # if the number of candidates exceed that of beam width 'beam_width'\n",
        "            candidates = candidates[:beam_width]\n"
      ]
    },
    {
      "cell_type": "markdown",
      "metadata": {
        "id": "7zbOlws3wNAI"
      },
      "source": [
        "### Solve"
      ]
    },
    {
      "cell_type": "code",
      "execution_count": null,
      "metadata": {
        "id": "bYZt8z_GKCIZ",
        "trusted": true,
        "outputId": "579378dc-1503-4df4-ebdb-05a64bb61c12"
      },
      "outputs": [
        {
          "name": "stderr",
          "output_type": "stream",
          "text": [
            "100%|\u2588\u2588\u2588\u2588\u2588\u2588\u2588\u2588\u2588\u2588| 500/500 [00:15<00:00, 33.17it/s]\n"
          ]
        },
        {
          "data": {
            "text/plain": [
              "'Successfully solved 500 cases out of 500'"
            ]
          },
          "execution_count": 22,
          "metadata": {},
          "output_type": "execute_result"
        }
      ],
      "source": [
        "result_ours = {\n",
        "    \"solutions\":[],\n",
        "    \"num_nodes_generated\":[],\n",
        "    \"times\":[]\n",
        "}\n",
        "for scramble in tqdm(test_scrambles, position=0):\n",
        "    # reset and scramble\n",
        "    env.reset()\n",
        "    env.apply_scramble(scramble)\n",
        "    # solve\n",
        "    success, result = beam_search(env, model)\n",
        "    if success:\n",
        "        for k in result_ours.keys():\n",
        "            result_ours[k].append(result[k])\n",
        "    else:\n",
        "        result_ours[\"solutions\"].append(None)\n",
        "\n",
        "result_ours['solution_lengths'] = [len(e) for e in result_ours['solutions'] if e]\n",
        "result_ours['solution_lengths_count'] = {\n",
        "    i: result_ours[\"solution_lengths\"].count(i)\n",
        "    for i in range(min(result_ours[\"solution_lengths\"]), max(result_ours[\"solution_lengths\"]))\n",
        "}\n",
        "f\"Successfully solved {len(result_ours['times'])} cases out of {len(result_ours['solutions'])}\""
      ]
    },
    {
      "cell_type": "code",
      "execution_count": null,
      "metadata": {
        "id": "orFapopwBQHs",
        "trusted": true,
        "outputId": "71a02b4f-e881-4796-a2e1-25ac7e8e49ce"
      },
      "outputs": [
        {
          "data": {
            "image/png": "[encoded data removed]",
            "text/plain": [
              "<Figure size 1152x648 with 6 Axes>"
            ]
          },
          "metadata": {
            "needs_background": "light"
          },
          "output_type": "display_data"
        }
      ],
      "source": [
        "#@title Visualize result\n",
        "fig, ax = plt.subplots(2, 3, figsize=(16, 9))\n",
        "ax = ax.ravel()\n",
        "ax[0].set_ylabel(\"Frequency\")\n",
        "ax[1].set_xlabel(\"Number of nodes\")\n",
        "\n",
        "key_to_text = {\n",
        "    \"solution_lengths\": \"Solution lengths\",\n",
        "    'num_nodes_generated': \"Number of nodes\",\n",
        "    \"times\":\"Calculation time (s)\",\n",
        "}\n",
        "\n",
        "\n",
        "for i, k in enumerate([\"solution_lengths\", \"num_nodes_generated\", \"times\"]):\n",
        "    v = result_ours[k]\n",
        "    if k==\"solution_lengths\":\n",
        "        v_count = result_ours['solution_lengths_count']\n",
        "        ax[i].bar(\n",
        "            v_count.keys(), v_count.values(),\n",
        "            width=1.0, color=\"#000000\"\n",
        "        )\n",
        "    else:\n",
        "        ax[i].hist(v, color=\"#000000\")\n",
        "    ax[i].axvline(\n",
        "        np.mean(v),\n",
        "        color=\"#00ffff\",\n",
        "        label=f\"mean={round(np.mean(v),3)}\",\n",
        "    )\n",
        "    ax[i].legend()\n",
        "    ax[i].set_xlabel(key_to_text[k])\n",
        "\n",
        "for i, (k_x, k_y) in enumerate([(\"solution_lengths\", \"num_nodes_generated\"), (\"num_nodes_generated\", \"times\"), (\"times\", \"solution_lengths\")]):\n",
        "    x, y = [result_ours[k] for k in [k_x, k_y]]\n",
        "    ax[i+3].set_xlabel(key_to_text[k_x])\n",
        "    ax[i+3].set_ylabel(key_to_text[k_y])\n",
        "\n",
        "    coef = np.mean(np.squeeze(np.array(y) / np.array(x)))\n",
        "    x_range = np.linspace(0, max(x), 100)\n",
        "    ax[i+3].plot(\n",
        "        x_range,\n",
        "        x_range * coef,\n",
        "        label=f\"slope={round(coef, 5)}\",\n",
        "        color=\"#00ffff\",\n",
        "    )\n",
        "    ax[i+3].scatter(x, y, color=\"#000000\")\n",
        "    ax[i+3].legend()\n",
        "\n",
        "plt.show()"
      ]
    },
    {
      "cell_type": "markdown",
      "metadata": {
        "id": "ADP7zZzKJr-m"
      },
      "source": [
        "## Comparison to DeepCubeA"
      ]
    },
    {
      "cell_type": "markdown",
      "metadata": {
        "id": "tFCy2rKkziW-"
      },
      "source": [
        "### Number of nodes vs. solution length"
      ]
    },
    {
      "cell_type": "code",
      "execution_count": null,
      "metadata": {
        "id": "zeKUE1rFznt5",
        "trusted": true,
        "outputId": "26764ab3-4881-4de4-d055-72d753765309"
      },
      "outputs": [
        {
          "data": {
            "image/png": "[encoded data removed]",
            "text/plain": [
              "<Figure size 540x540 with 3 Axes>"
            ]
          },
          "metadata": {
            "needs_background": "light"
          },
          "output_type": "display_data"
        }
      ],
      "source": [
        "left, width = 0.12, 0.75\n",
        "bottom, height = 0.1, 0.75\n",
        "spacing = 0.0\n",
        "\n",
        "rect_scatter = [left, bottom, width, height]\n",
        "rect_histx = [left, bottom + height, width, 0.1]\n",
        "rect_histy = [left + width, bottom, 0.1, height]\n",
        "\n",
        "fig = plt.figure(figsize=(7.5, 7.5))\n",
        "ax = fig.add_axes(rect_scatter)\n",
        "ax.set_xlabel(\"Number of nodes\")\n",
        "ax.set_ylabel(\"Solution length\")\n",
        "ax.set_xscale(\"log\")\n",
        "ax_histx = fig.add_axes(rect_histx, sharex=ax)\n",
        "ax_histy = fig.add_axes(rect_histy, sharey=ax)\n",
        "ax_histx.set_ylabel(\"Frequency\")\n",
        "ax_histy.set_xlabel(\"Frequency\")\n",
        "ax_histx.tick_params(axis=\"x\", labelbottom=False)\n",
        "ax_histy.tick_params(axis=\"y\", labelleft=False)\n",
        "\n",
        "for AX in [ax, ax_histy]:\n",
        "    AX.set_ylim(min(result_ours['solution_lengths_count'])-0.5, max(result_ours['solution_lengths_count'])+0.5)\n",
        "\n",
        "xmin, xmax = 0, 7.5\n",
        "ax.set_xlim(10**xmin, 10**xmax)\n",
        "ax_histx.set_xlim(10**xmin, 10**xmax)\n",
        "bins_x = np.logspace(xmin, xmax, 100)\n",
        "\n",
        "################################################################################\n",
        "k_x, k_y = \"num_nodes_generated\", \"solution_lengths\"\n",
        "\n",
        "for k, d in [(\"DeepCubeA\", result_DeepCubeA), (\"Ours\", result_ours)]:\n",
        "    x, y = d[k_x], d[k_y]\n",
        "    ax.scatter(x, y, s=10)\n",
        "    ax_histx.hist(x, bins=bins_x)\n",
        "\n",
        "for i, d in enumerate([result_DeepCubeA, result_ours]):\n",
        "    d = d[\"solution_lengths_count\"]\n",
        "    ax_histy.barh(list(d.keys()), list(d.values()), height=1)\n",
        "\n",
        "ax_histy.axhline(np.mean(result_ours[k_y]), ls=\"--\", color=\"#EB4275\")\n",
        "ax.axhline(np.mean(result_ours[k_y]), ls=\"--\", color=\"#EB4275\")\n",
        "\n",
        "ax.plot(np.mean(result_DeepCubeA[k_x]), np.mean(result_DeepCubeA[k_y]), \"x\", label=\"DeepCubeA\", markersize=12)\n",
        "ax.plot(np.mean(result_ours[k_x]), np.mean(result_ours[k_y]), \"x\", label=\"Ours\", markersize=12)\n",
        "ax.legend()\n",
        "\n",
        "plt.show()"
      ]
    },
    {
      "cell_type": "markdown",
      "metadata": {
        "id": "DmWG3Bwv4Gei"
      },
      "source": [
        "### Calculation time (s) vs. Solution length\n",
        "\n",
        "We compare time taken to solve test cases.\n",
        "\n",
        "In order to compare fairly our method to DeepCubeA, both of which are DNN-based, we obtain per-node time (s) and adjust ours to DeepCubeA."
      ]
    },
    {
      "cell_type": "code",
      "execution_count": null,
      "metadata": {
        "id": "UzmmXFTk4K9x",
        "trusted": true,
        "outputId": "a6694d39-01dc-4a71-fb7e-6283a137d707"
      },
      "outputs": [
        {
          "name": "stdout",
          "output_type": "stream",
          "text": [
            "DeepCubeA:\t5.17 microseconds / node\n",
            "Ours\t:\t1230.32 microseconds / node\n"
          ]
        },
        {
          "data": {
            "image/png": "[encoded data removed]",
            "text/plain": [
              "<Figure size 360x360 with 1 Axes>"
            ]
          },
          "metadata": {
            "needs_background": "light"
          },
          "output_type": "display_data"
        }
      ],
      "source": [
        "fig, ax = plt.subplots(1, 1, figsize=(5, 5))\n",
        "ax.set_xlabel(\"Calculation time per node (s)\")\n",
        "ax.set_ylabel(\"Frequency\")\n",
        "ax.set_xscale(\"log\")\n",
        "ax.set_xlim(10**-5.5, 10**-2.25)\n",
        "bins_x = np.logspace(-5.5, -2.25, 100)\n",
        "\n",
        "################################################################################\n",
        "\n",
        "for k, d in [(\"DeepCubeA\",result_DeepCubeA), (\"Ours\",result_ours)]:\n",
        "    time_per_node = np.array(d[\"times\"])  / np.array(d[\"num_nodes_generated\"])\n",
        "    ax.hist(time_per_node, bins=bins_x, label=k)\n",
        "    k = k.replace('Ours','Ours\\t')\n",
        "    print(f\"{k}:\\t{round(np.mean(time_per_node)*1e6, 2)} microseconds / node\")\n",
        "\n",
        "ax.legend()\n",
        "plt.show()\n"
      ]
    },
    {
      "cell_type": "code",
      "execution_count": null,
      "metadata": {
        "id": "w7Kuyx5QVDQG",
        "trusted": true,
        "outputId": "4936ac82-d8ef-40a8-cf90-62284d016ac5"
      },
      "outputs": [
        {
          "data": {
            "text/plain": [
              "237.9702071408638"
            ]
          },
          "execution_count": 26,
          "metadata": {},
          "output_type": "execute_result"
        }
      ],
      "source": [
        "t_per_node_DeepCubeA = np.mean(result_DeepCubeA[\"times\"]) / np.mean(result_DeepCubeA[\"num_nodes_generated\"])\n",
        "t_per_node_Ours = np.mean(result_ours[\"times\"]) / np.mean(result_ours[\"num_nodes_generated\"])\n",
        "t_ratio = t_per_node_Ours / t_per_node_DeepCubeA\n",
        "t_ratio"
      ]
    },
    {
      "cell_type": "code",
      "execution_count": null,
      "metadata": {
        "id": "Bk3T44bB4b5Q",
        "trusted": true,
        "outputId": "dd6555b3-ebde-4c9d-d430-1580344f9da1"
      },
      "outputs": [
        {
          "data": {
            "image/png": "[encoded data removed]",
            "text/plain": [
              "<Figure size 720x360 with 5 Axes>"
            ]
          },
          "metadata": {
            "needs_background": "light"
          },
          "output_type": "display_data"
        }
      ],
      "source": [
        "left, width = 0.125, 0.35\n",
        "bottom, height = 0.135, 0.70\n",
        "\n",
        "rect_scatter = [left, bottom, width, height]\n",
        "rect_scatter_j = [left + width, bottom, width, height]\n",
        "rect_histx_0 = [left, bottom + height, width, 0.10]\n",
        "rect_histx_1 = [left + width, bottom + height, width, 0.10]\n",
        "rect_histy = [left + 2 * (width), bottom, 0.125, height]\n",
        "\n",
        "fig = plt.figure(figsize=(10, 5))\n",
        "ax = fig.add_axes(rect_scatter)\n",
        "ax.set_xlabel(\"Actual time taken (s)\")\n",
        "ax.set_ylabel(\"Solution lengths\")\n",
        "ax.set_xscale(\"log\")\n",
        "ax_j = fig.add_axes(rect_scatter_j)\n",
        "ax_j.set_xlabel(\"Normalized time taken (s)\")\n",
        "ax_j.set_xscale(\"log\")\n",
        "ax_j.tick_params(axis=\"y\", labelleft=False)\n",
        "\n",
        "ax_histx_0 = fig.add_axes(rect_histx_0, sharex=ax)\n",
        "ax_histx_0.set_ylabel(\"Frequency\")\n",
        "ax_histx_0.tick_params(axis=\"x\", labelbottom=False)\n",
        "ax_histx_1 = fig.add_axes(rect_histx_1, sharex=ax)\n",
        "ax_histx_1.tick_params(axis=\"x\", labelbottom=False)\n",
        "ax_histx_1.tick_params(axis=\"y\", labelleft=False)\n",
        "ax_histy = fig.add_axes(rect_histy, sharey=ax)\n",
        "ax_histy.set_xlabel(\"Frequency\")\n",
        "ax_histy.tick_params(axis=\"y\", labelleft=True)\n",
        "\n",
        "bins_x = np.logspace(-4.5, 1.75, 100)\n",
        "\n",
        "################################################################################\n",
        "k_x, k_y = \"times\", \"solution_lengths\"\n",
        "\n",
        "for k, (t, s) in {\n",
        "        # \"Optimal\": (result_Optimal[k_x], result_Optimal[k_y]),\n",
        "        \"DeepCubeA\": (result_DeepCubeA[k_x], result_DeepCubeA[k_y]),\n",
        "        \"Ours\": (result_ours[k_x], result_ours[k_y]),\n",
        "    }.items():\n",
        "    ax.scatter(t, s, s=5)\n",
        "    ax_histx_0.hist(t, bins=bins_x)\n",
        "    if k == \"Ours\":\n",
        "        t_justified = np.array(t) / t_ratio\n",
        "        ax_histx_1.hist(t_justified, bins=bins_x)\n",
        "        ax_j.scatter(t_justified, s, label=k, s=5)\n",
        "    else:\n",
        "        ax_histx_1.hist(np.array(t), bins=bins_x)\n",
        "        ax_j.scatter(np.array(t), s, label=k, s=5)\n",
        "\n",
        "for AX in [ax, ax_j]:\n",
        "    # AX.plot(np.mean(result_Optimal[k_x]), np.mean(result_Optimal[k_y]), \"x\", label=\"Optimal\", markersize=16)\n",
        "    AX.plot(np.mean(result_DeepCubeA[k_x]), np.mean(result_DeepCubeA[k_y]), \"x\", label=\"DeepCubeA\", markersize=16)\n",
        "    AX.set_xlim(10**-4.5, 10**1.75)\n",
        "    AX.set_ylim(12.5, max(result_ours[\"solution_lengths_count\"]) + 1)\n",
        "\n",
        "for AX in [ax, ax_j, ax_histy]:\n",
        "    AX.axhline(np.mean(result_ours[k_y]), ls=\"--\", lw=1, color=\"#EB4275\")\n",
        "\n",
        "for i, d in enumerate([result_DeepCubeA, result_ours]):\n",
        "    d = d[\"solution_lengths_count\"]\n",
        "    ax_histy.barh(list(d.keys()), list(d.values()), height=1)\n",
        "\n",
        "ax.plot(np.mean(result_ours[k_x]), np.mean(result_ours[k_y]), \"x\", label=\"Ours\", markersize=16)\n",
        "ax_j.plot(t_per_node_DeepCubeA*np.mean(result_ours[\"num_nodes_generated\"]), np.mean(result_ours[k_y]), \"x\", markersize=16)\n",
        "\n",
        "ax.legend(loc=\"upper left\")\n",
        "plt.show()"
      ]
    }
  ],
  "metadata": {
    "kernelspec": {
      "display_name": "Python 3",
      "name": "python3"
    },
    "language_info": {
      "codemirror_mode": {
        "name": "ipython",
        "version": 3
      },
      "file_extension": ".py",
      "mimetype": "text/x-python",
      "name": "python",
      "nbconvert_exporter": "python",
      "pygments_lexer": "ipython3",
      "version": "3.9.2"
    },
    "accelerator": "GPU"
  },
  "nbformat": 4,
  "nbformat_minor": 0
}